{
 "cells": [
  {
   "cell_type": "markdown",
   "metadata": {},
   "source": [
    "# Module 12 Challenge\n",
    "## Deliverable 1: Scrape Titles and Preview Text from Mars News"
   ]
  },
  {
   "cell_type": "code",
   "execution_count": 1,
   "metadata": {
    "tags": []
   },
   "outputs": [],
   "source": [
    "# Import Splinter and BeautifulSoup\n",
    "from splinter import Browser"
   ]
  },
  {
   "cell_type": "code",
   "execution_count": 2,
   "metadata": {
    "tags": []
   },
   "outputs": [],
   "source": [
    "from bs4 import BeautifulSoup"
   ]
  },
  {
   "cell_type": "code",
   "execution_count": 6,
   "metadata": {
    "scrolled": true,
    "tags": []
   },
   "outputs": [],
   "source": [
    "browser = Browser('chrome')"
   ]
  },
  {
   "cell_type": "markdown",
   "metadata": {
    "tags": []
   },
   "source": [
    "### Step 1: Visit the Website\n",
    "\n",
    "1. Use automated browsing to visit the [Mars news site](https://static.bc-edx.com/data/web/mars_news/index.html). Inspect the page to identify which elements to scrape.\n",
    "\n",
    "      > **Hint** To identify which elements to scrape, you might want to inspect the page by using Chrome DevTools."
   ]
  },
  {
   "cell_type": "code",
   "execution_count": 7,
   "metadata": {
    "tags": []
   },
   "outputs": [],
   "source": [
    "# Visit the Mars news site\n",
    "url = 'https://static.bc-edx.com/data/web/mars_news/index.html'\n",
    "browser.visit(url)"
   ]
  },
  {
   "cell_type": "markdown",
   "metadata": {},
   "source": [
    "### Step 2: Scrape the Website\n",
    "\n",
    "Create a Beautiful Soup object and use it to extract text elements from the website."
   ]
  },
  {
   "cell_type": "code",
   "execution_count": 10,
   "metadata": {
    "tags": []
   },
   "outputs": [],
   "source": [
    "# Create a Beautiful Soup object\n",
    "html = browser.html\n"
   ]
  },
  {
   "cell_type": "code",
   "execution_count": 11,
   "metadata": {
    "tags": []
   },
   "outputs": [],
   "source": [
    "soup = BeautifulSoup(html, 'html.parser')"
   ]
  },
  {
   "cell_type": "code",
   "execution_count": 12,
   "metadata": {
    "tags": []
   },
   "outputs": [
    {
     "name": "stdout",
     "output_type": "stream",
     "text": [
      "News - Mars Exploration Program\n",
      "MARS Planet Science\n",
      "Exploration Program\n",
      "The Red Planet\n",
      "The Program\n",
      "News & Events\n",
      "Multimedia\n",
      "Missions\n",
      "More\n",
      "News\n",
      "Latest\n",
      "All Categories\n",
      "November 9, 2022\n",
      "NASA's MAVEN Observes Martian Light Show Caused by Major Solar Storm\n",
      "For the first time in its eight years orbiting Mars, NASA’s MAVEN mission witnessed two different types of ultraviolet aurorae simultaneously, the result of solar storms that began on Aug. 27.\n",
      "November 1, 2022\n",
      "NASA Prepares to Say 'Farewell' to InSight Spacecraft\n",
      "A closer look at what goes into wrapping up the mission as the spacecraft’s power supply continues to dwindle.\n",
      "October 28, 2022\n",
      "NASA and ESA Agree on Next Steps to Return Mars Samples to Earth\n",
      "The agency’s Perseverance rover will establish the first sample depot on Mars.\n",
      "October 27, 2022\n",
      "NASA's InSight Lander Detects Stunning Meteoroid Impact on Mars\n",
      "The agency’s lander felt the ground shake during the impact while cameras aboard the Mars Reconnaissance Orbiter spotted the yawning new crater from space.\n",
      "October 21, 2022\n",
      "NASA To Host Briefing on InSight, Mars Reconnaissance Orbiter Findings\n",
      "Scientists from two Mars missions will discuss how they combined images and data for a major finding on the Red Planet.\n",
      "October 20, 2022\n",
      "Why NASA Is Trying To Crash Land on Mars\n",
      "Like a car’s crumple zone, the experimental SHIELD lander is designed to absorb a hard impact.\n",
      "October 19, 2022\n",
      "Curiosity Mars Rover Reaches Long-Awaited Salty Region\n",
      "After years of climbing, the Mars rover has arrived at a special region believed to have formed as Mars’ climate was drying.\n",
      "October 12, 2022\n",
      "Mars Mission Shields Up for Tests\n",
      "Protecting Mars Sample Return spacecraft from micrometeorites requires high-caliber work.\n",
      "October 7, 2022\n",
      "NASA's InSight Waits Out Dust Storm\n",
      "InSight’s team is taking steps to help the solar-powered lander continue operating for as long as possible.\n",
      "September 19, 2022\n",
      "NASA's InSight 'Hears' Its First Meteoroid Impacts on Mars\n",
      "The Mars lander’s seismometer has picked up vibrations from four separate impacts in the past two years.\n",
      "September 15, 2022\n",
      "NASA's Perseverance Rover Investigates Geologically Rich Mars Terrain\n",
      "The latest findings provide greater detail on a region of the Red Planet that has a watery past and is yielding promising samples for the NASA-ESA Mars Sample Return campaign.\n",
      "September 12, 2022\n",
      "NASA to Host Briefing on Perseverance Mars Rover Mission Operations\n",
      "Members of the mission will discuss the rover’s activities as it gathers samples in an ancient river delta.\n",
      "August 25, 2022\n",
      "NASA's Perseverance Makes New Discoveries in Mars' Jezero Crater\n",
      "The rover found that Jezero Crater’s floor is made up of volcanic rocks that have interacted with water.\n",
      "August 5, 2022\n",
      "10 Years Since Landing, NASA's Curiosity Mars Rover Still Has Drive\n",
      "Despite signs of wear, the intrepid spacecraft is about to start an exciting new chapter of its mission as it climbs a Martian mountain.\n",
      "August 4, 2022\n",
      "SAM's Top 5 Discoveries Aboard NASA's Curiosity Rover at Mars\n",
      "“Selfie” of the Curiosity rover with inset showing the SAM instrument prior to installation on the rover.\n",
      "More\n",
      "You Might Also Like\n",
      "NASA Marks 25 Years Since Pathfinder Touched Down on Mars\n",
      "NASA's Perseverance Rover Captures Video of Solar Eclipse on Mars\n",
      "NASA, UAE Mars Missions Agree to Share Science Data\n",
      "The Red Planet\n",
      "Dashboard\n",
      "Science Goals\n",
      "The Planet\n",
      "The Program\n",
      "Mission Statement\n",
      "About the Program\n",
      "Organization Why Mars?\n",
      "Multimedia\n",
      "Images\n",
      "Videos\n",
      "More Resources\n",
      "Missions\n",
      "Past\n",
      "Present\n",
      "Future\n",
      "Images and news content extracted from NASA's\n",
      "Mars News\n",
      "website on November 9, 2022.\n",
      "Images used in accordance with the\n",
      "JPL Image Use Policy\n",
      ".\n",
      "This site is operated by edX Boot Camps LLC for educational purposes only.\n",
      "This is not a website endorsed by NASA. This website is intended only for internal academic purposes.\n"
     ]
    }
   ],
   "source": [
    "# Extract all the text elements\n",
    "text_elements = soup.stripped_strings\n",
    "for text in text_elements:\n",
    "    print(text)"
   ]
  },
  {
   "cell_type": "markdown",
   "metadata": {},
   "source": [
    "### Step 3: Store the Results\n",
    "\n",
    "Extract the titles and preview text of the news articles that you scraped. Store the scraping results in Python data structures as follows:\n",
    "\n",
    "* Store each title-and-preview pair in a Python dictionary. And, give each dictionary two keys: `title` and `preview`. An example is the following:\n",
    "\n",
    "  ```python\n",
    "  {'title': \"NASA's MAVEN Observes Martian Light Show Caused by Major Solar Storm\", \n",
    "   'preview': \"For the first time in its eight years orbiting Mars, NASA’s MAVEN mission witnessed two different types of ultraviolet aurorae simultaneously, the result of solar storms that began on Aug. 27.\"\n",
    "  }\n",
    "  ```\n",
    "\n",
    "* Store all the dictionaries in a Python list.\n",
    "\n",
    "* Print the list in your notebook."
   ]
  },
  {
   "cell_type": "code",
   "execution_count": 21,
   "metadata": {
    "tags": []
   },
   "outputs": [],
   "source": [
    "# Create an empty list to store the dictionaries\n",
    "data = []"
   ]
  },
  {
   "cell_type": "code",
   "execution_count": 35,
   "metadata": {
    "tags": []
   },
   "outputs": [],
   "source": [
    "# Loop through the text elements\n",
    "# Extract the title and preview text from the elements\n",
    "titles =  soup.find_all('div', class_='content_title')\n",
    "previews = soup.find_all('div', class_='article_teaser_body')"
   ]
  },
  {
   "cell_type": "code",
   "execution_count": 37,
   "metadata": {
    "tags": []
   },
   "outputs": [],
   "source": [
    "# Store each title and preview pair in a dictionary\n",
    "# Add the dictionary to the list\n",
    "if len(titles) == len(previews):\n",
    "    for title, preview in zip(titles, previews):\n",
    "        news_dict = {\n",
    "            'title': title.text.strip(),\n",
    "            'preview': preview.text.strip()\n",
    "        }\n",
    "        data.append(news_dict)"
   ]
  },
  {
   "cell_type": "code",
   "execution_count": 38,
   "metadata": {
    "tags": []
   },
   "outputs": [
    {
     "name": "stdout",
     "output_type": "stream",
     "text": [
      "{'title': \"NASA's MAVEN Observes Martian Light Show Caused by Major Solar Storm\", 'preview': 'For the first time in its eight years orbiting Mars, NASA’s MAVEN mission witnessed two different types of ultraviolet aurorae simultaneously, the result of solar storms that began on Aug. 27.'}\n",
      "{'title': \"NASA Prepares to Say 'Farewell' to InSight Spacecraft\", 'preview': 'A closer look at what goes into wrapping up the mission as the spacecraft’s power supply continues to dwindle.'}\n",
      "{'title': 'NASA and ESA Agree on Next Steps to Return Mars Samples to Earth', 'preview': 'The agency’s Perseverance rover will establish the first sample depot on Mars.'}\n",
      "{'title': \"NASA's InSight Lander Detects Stunning Meteoroid Impact on Mars\", 'preview': 'The agency’s lander felt the ground shake during the impact while cameras aboard the Mars Reconnaissance Orbiter spotted the yawning new crater from space.'}\n",
      "{'title': 'NASA To Host Briefing on InSight, Mars Reconnaissance Orbiter Findings', 'preview': 'Scientists from two Mars missions will discuss how they combined images and data for a major finding on the Red Planet.'}\n",
      "{'title': 'Why NASA Is Trying To Crash Land on Mars', 'preview': 'Like a car’s crumple zone, the experimental SHIELD lander is designed to absorb a hard impact.'}\n",
      "{'title': 'Curiosity Mars Rover Reaches Long-Awaited Salty Region', 'preview': 'After years of climbing, the Mars rover has arrived at a special region believed to have formed as Mars’ climate was drying.'}\n",
      "{'title': 'Mars Mission Shields Up for Tests', 'preview': 'Protecting Mars Sample Return spacecraft from micrometeorites requires high-caliber work.'}\n",
      "{'title': \"NASA's InSight Waits Out Dust Storm\", 'preview': 'InSight’s team is taking steps to help the solar-powered lander continue operating for as long as possible.'}\n",
      "{'title': \"NASA's InSight 'Hears' Its First Meteoroid Impacts on Mars\", 'preview': 'The Mars lander’s seismometer has picked up vibrations from four separate impacts in the past two years.'}\n",
      "{'title': \"NASA's Perseverance Rover Investigates Geologically Rich Mars Terrain\", 'preview': 'The latest findings provide greater detail on a region of the Red Planet that has a watery past and is yielding promising samples for the NASA-ESA Mars Sample Return campaign.'}\n",
      "{'title': 'NASA to Host Briefing on Perseverance Mars Rover Mission Operations', 'preview': 'Members of the mission will discuss the rover’s activities as it gathers samples in an ancient river delta.'}\n",
      "{'title': \"NASA's Perseverance Makes New Discoveries in Mars' Jezero Crater\", 'preview': 'The rover found that Jezero Crater’s floor is made up of volcanic rocks that have interacted with water.'}\n",
      "{'title': \"10 Years Since Landing, NASA's Curiosity Mars Rover Still Has Drive\", 'preview': 'Despite signs of wear, the intrepid spacecraft is about to start an exciting new chapter of its mission as it climbs a Martian mountain.'}\n",
      "{'title': \"SAM's Top 5 Discoveries Aboard NASA's Curiosity Rover at Mars\", 'preview': '“Selfie” of the Curiosity rover with inset showing the SAM instrument prior to installation on the rover.'}\n"
     ]
    }
   ],
   "source": [
    "# Print the list to confirm success\n",
    "for news_item in data:\n",
    "    print(news_item)"
   ]
  },
  {
   "cell_type": "code",
   "execution_count": 39,
   "metadata": {
    "tags": []
   },
   "outputs": [],
   "source": [
    "browser.quit()"
   ]
  },
  {
   "cell_type": "code",
   "execution_count": null,
   "metadata": {},
   "outputs": [],
   "source": []
  }
 ],
 "metadata": {
  "kernelspec": {
   "display_name": "testmojave",
   "language": "python",
   "name": "testmojave"
  },
  "language_info": {
   "codemirror_mode": {
    "name": "ipython",
    "version": 3
   },
   "file_extension": ".py",
   "mimetype": "text/x-python",
   "name": "python",
   "nbconvert_exporter": "python",
   "pygments_lexer": "ipython3",
   "version": "3.9.15"
  },
  "vscode": {
   "interpreter": {
    "hash": "31f2aee4e71d21fbe5cf8b01ff0e069b9275f58929596ceb00d14d90e3e16cd6"
   }
  }
 },
 "nbformat": 4,
 "nbformat_minor": 4
}
